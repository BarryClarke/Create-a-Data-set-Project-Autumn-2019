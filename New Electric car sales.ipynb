{
 "cells": [
  {
   "cell_type": "markdown",
   "metadata": {},
   "source": [
    "# <center><font color = 'green'>Simulated data for purchasing a new electric car</fon></center>"
   ]
  },
  {
   "cell_type": "markdown",
   "metadata": {},
   "source": [
    "![car-reg](Images/car-reg.png)"
   ]
  },
  {
   "cell_type": "markdown",
   "metadata": {},
   "source": [
    "## <center><font color = 'green'>Barry Clarke</fon></center>\n",
    "## <center><font color = 'green'>Programming for Data Analytics - Project - Autumn 2019</fon></center>"
   ]
  },
  {
   "cell_type": "markdown",
   "metadata": {},
   "source": [
    "## Description"
   ]
  },
  {
   "cell_type": "markdown",
   "metadata": {},
   "source": [
    "This repository will simulate the data for the purchasing of new hybrid and full electric cars in Ireland in the 2019. Summary car sales figures show that there has been a significant increase in Hybrid and full electric cars in 2019, when compared to 2018 sales figures.[1] The trend of total sales of Hybrids + full electric cars for 2018 and 2019 can be seen below. <br> \n",
    "![New E-car sales summary](Images/E-Car-sales-summary.png)<br>\n",
    "This data is of interest to the author, as his next car purchase will either be a hybrid or a full electric. Note the trend in the above plot with two peaks, one in January and one in July. This can be explained by the volume of car sales seen at the beginning of the 1st half of the year, and the beginning of the 2nd half of the year. For the below dataset, this trend is not important, rather the focus will be on the overall volume of sales for individual car types for the entire first 10months of 2019."
   ]
  },
  {
   "cell_type": "markdown",
   "metadata": {},
   "source": [
    "The dataset will include the following columns:\n",
    "1. **Model:** The make of car\n",
    "2. **Make:** The manufacturer of the car\n",
    "3. **Technology** The engine type\n",
    "4. **Class:** The class of car\n",
    "5. **Price** The price of the car\n",
    "6. **Location** County where the car is registered. <font color = 'Red'>Note:</font> The dataset will only focus on Dublin and the commuter counties, as the author is a commuter and would like data relevant to his life situation\n",
    "6. **colour** The colour of the car\n",
    "7. **Gender:** Gender of purchaser\n",
    "8. **Scrappage:** Yes/No based on whether the purchaser was availing of a scrappage deal\n",
    "\n",
    "Within the dataset, the relationships between the variables will be discussed and simulated. The final simulated dataset will contain 1000 entries.<br>\n",
    "**Note:** The simulated dataset is primarily based on data gathered from the [Irish Motor Industry website](https://stats.beepbeep.ie/)"
   ]
  },
  {
   "cell_type": "code",
   "execution_count": 1,
   "metadata": {},
   "outputs": [],
   "source": [
    "# Import the relevant libraries\n",
    "import numpy as np\n",
    "import pandas as pd"
   ]
  },
  {
   "cell_type": "markdown",
   "metadata": {},
   "source": [
    "The below data is based on the summary data for the registrations of hybrid and Electrice passenger cars sold in Dublin and it's commuter counties in 2019 to end of October. This data can be viewed [here](Data/passenger-cars-by-model.xlsx)"
   ]
  },
  {
   "cell_type": "code",
   "execution_count": 2,
   "metadata": {},
   "outputs": [],
   "source": [
    "# List of options within each variable\n",
    "model = ['Leaf', 'Kona', 'Niro', 'zoe', 'E-Golf', 'Outlander', 'Range Rover sport RA', 'Ioniq', 'I3', '5 Series', 'XC90', \n",
    "        '3 Series', 'Soul', 'Countryman', 'Model S', 'XC60', 'E-Tron', 'I-Pace', 'Range Rover', 'Model 3', 'Model X',\n",
    "       'S90', 'Prius', 'Panamera', 'Mondeo', '2 Series', 'Range Rover Evoque R', 'EQC', 'E Class', 'Evalia', '7 Series',\n",
    "       'Passat', 'Twizy', 'C Class', 'A7', 'V90', 'Cayenne']\n",
    "make = ['Nissan', 'Hyundai', 'Kia', 'Renault', 'Volkswagon', 'Mitsubishi', 'Land Rover', 'Hyundai', 'BMW', 'Volvo', 'Mini',\n",
    "       'Tesla', 'Audi', 'Jaguar', 'Toyota', 'Porsche', 'Ford', 'Mercedez-Benz']\n",
    "technology = ['Hybrid/Diesel', 'Hybrid/Petrol', 'Electric']\n",
    "classification = ['small', 'medium', 'large', 'SUV']\n",
    "Price = ['Whatever']\n",
    "location = ['Dublin', 'Meath', 'Louth', 'Kildare', 'Wicklow', 'Wexford', 'Carlow']\n",
    "colour = ['Black', 'White', 'Red', 'Silver', 'Navy', 'Other']\n",
    "gender = ['Male', 'Female']\n",
    "scrappage = ['Yes', 'No']"
   ]
  },
  {
   "cell_type": "markdown",
   "metadata": {},
   "source": [
    "For each sale simulated, the [numpy.random.choice()](#https://docs.scipy.org/doc/numpy-1.15.0/reference/generated/numpy.random.choice.html) function will be used, with a probability attached to each car based on the sales statistics of all cars in the data."
   ]
  },
  {
   "cell_type": "code",
   "execution_count": 3,
   "metadata": {},
   "outputs": [],
   "source": [
    "# Probabilities of each car model being registered, based on 2019 Summary data\n",
    "p1=[0.212, 0.220, 0.090, 0.037, 0.062, 0.046, 0.046, 0.003, 0.035, 0.027, 0.022, 0.02, 0.012, 0.013, 0.014, 0.01, 0.011, 0.012, 0.010, 0.009, 0.008, 0.009, 0.005, 0.006, 0.002, 0.002, 0.002, 0.001, 0.001, 0.0003, 0.0007, 0.0007, 0.0003, 0.0003, 0.0003, 0.0003, 0.0003]\n",
    "# numpy.random.choice() can have difficulty suming all probabilities to 1. The solution is to normalize the probabilities \n",
    "# by dividing them by their sum if the sum is close enough to 1. [2]\n",
    "p1 = np.array(p1)\n",
    "p1 /= p1.sum()"
   ]
  },
  {
   "cell_type": "code",
   "execution_count": 4,
   "metadata": {},
   "outputs": [],
   "source": [
    "# Probabilities of location where car is registered\n",
    "p2=[0.728, 0.057, 0.033, 0.076, 0.057, 0.034, 0.015]"
   ]
  },
  {
   "cell_type": "code",
   "execution_count": 5,
   "metadata": {},
   "outputs": [],
   "source": [
    "Cars = pd.DataFrame({'Model': np.random.choice(model, 10, p=p1), 'Technology': np.random.choice(technology, 10),\n",
    "                    'Class': np.random.choice(classification, 10), 'Price': np.random.randint(20000, 80000, size=10),\n",
    "                    'Location': np.random.choice(location, size=10, p=p2), 'Gender': np.random.choice(gender, 10),\n",
    "                    'Scrappage': np.random.choice(scrappage, 10)})"
   ]
  },
  {
   "cell_type": "code",
   "execution_count": 6,
   "metadata": {},
   "outputs": [
    {
     "data": {
      "text/html": [
       "<div>\n",
       "<style scoped>\n",
       "    .dataframe tbody tr th:only-of-type {\n",
       "        vertical-align: middle;\n",
       "    }\n",
       "\n",
       "    .dataframe tbody tr th {\n",
       "        vertical-align: top;\n",
       "    }\n",
       "\n",
       "    .dataframe thead th {\n",
       "        text-align: right;\n",
       "    }\n",
       "</style>\n",
       "<table border=\"1\" class=\"dataframe\">\n",
       "  <thead>\n",
       "    <tr style=\"text-align: right;\">\n",
       "      <th></th>\n",
       "      <th>Model</th>\n",
       "      <th>Technology</th>\n",
       "      <th>Class</th>\n",
       "      <th>Price</th>\n",
       "      <th>Location</th>\n",
       "      <th>Gender</th>\n",
       "      <th>Scrappage</th>\n",
       "    </tr>\n",
       "  </thead>\n",
       "  <tbody>\n",
       "    <tr>\n",
       "      <th>0</th>\n",
       "      <td>Kona</td>\n",
       "      <td>Hybrid/Petrol</td>\n",
       "      <td>large</td>\n",
       "      <td>42492</td>\n",
       "      <td>Dublin</td>\n",
       "      <td>Female</td>\n",
       "      <td>Yes</td>\n",
       "    </tr>\n",
       "    <tr>\n",
       "      <th>1</th>\n",
       "      <td>XC60</td>\n",
       "      <td>Hybrid/Petrol</td>\n",
       "      <td>SUV</td>\n",
       "      <td>36264</td>\n",
       "      <td>Dublin</td>\n",
       "      <td>Female</td>\n",
       "      <td>Yes</td>\n",
       "    </tr>\n",
       "    <tr>\n",
       "      <th>2</th>\n",
       "      <td>Kona</td>\n",
       "      <td>Hybrid/Petrol</td>\n",
       "      <td>small</td>\n",
       "      <td>20240</td>\n",
       "      <td>Dublin</td>\n",
       "      <td>Male</td>\n",
       "      <td>Yes</td>\n",
       "    </tr>\n",
       "    <tr>\n",
       "      <th>3</th>\n",
       "      <td>XC90</td>\n",
       "      <td>Electric</td>\n",
       "      <td>medium</td>\n",
       "      <td>35427</td>\n",
       "      <td>Wexford</td>\n",
       "      <td>Female</td>\n",
       "      <td>No</td>\n",
       "    </tr>\n",
       "    <tr>\n",
       "      <th>4</th>\n",
       "      <td>Range Rover</td>\n",
       "      <td>Hybrid/Diesel</td>\n",
       "      <td>large</td>\n",
       "      <td>59373</td>\n",
       "      <td>Kildare</td>\n",
       "      <td>Male</td>\n",
       "      <td>Yes</td>\n",
       "    </tr>\n",
       "    <tr>\n",
       "      <th>5</th>\n",
       "      <td>Countryman</td>\n",
       "      <td>Hybrid/Petrol</td>\n",
       "      <td>medium</td>\n",
       "      <td>48848</td>\n",
       "      <td>Dublin</td>\n",
       "      <td>Male</td>\n",
       "      <td>Yes</td>\n",
       "    </tr>\n",
       "    <tr>\n",
       "      <th>6</th>\n",
       "      <td>Niro</td>\n",
       "      <td>Hybrid/Petrol</td>\n",
       "      <td>large</td>\n",
       "      <td>37759</td>\n",
       "      <td>Dublin</td>\n",
       "      <td>Female</td>\n",
       "      <td>No</td>\n",
       "    </tr>\n",
       "    <tr>\n",
       "      <th>7</th>\n",
       "      <td>Kona</td>\n",
       "      <td>Electric</td>\n",
       "      <td>medium</td>\n",
       "      <td>27637</td>\n",
       "      <td>Dublin</td>\n",
       "      <td>Male</td>\n",
       "      <td>Yes</td>\n",
       "    </tr>\n",
       "    <tr>\n",
       "      <th>8</th>\n",
       "      <td>5 Series</td>\n",
       "      <td>Hybrid/Petrol</td>\n",
       "      <td>small</td>\n",
       "      <td>71306</td>\n",
       "      <td>Dublin</td>\n",
       "      <td>Male</td>\n",
       "      <td>Yes</td>\n",
       "    </tr>\n",
       "    <tr>\n",
       "      <th>9</th>\n",
       "      <td>5 Series</td>\n",
       "      <td>Electric</td>\n",
       "      <td>medium</td>\n",
       "      <td>63448</td>\n",
       "      <td>Dublin</td>\n",
       "      <td>Male</td>\n",
       "      <td>No</td>\n",
       "    </tr>\n",
       "  </tbody>\n",
       "</table>\n",
       "</div>"
      ],
      "text/plain": [
       "         Model     Technology   Class  Price Location  Gender Scrappage\n",
       "0         Kona  Hybrid/Petrol   large  42492   Dublin  Female       Yes\n",
       "1         XC60  Hybrid/Petrol     SUV  36264   Dublin  Female       Yes\n",
       "2         Kona  Hybrid/Petrol   small  20240   Dublin    Male       Yes\n",
       "3         XC90       Electric  medium  35427  Wexford  Female        No\n",
       "4  Range Rover  Hybrid/Diesel   large  59373  Kildare    Male       Yes\n",
       "5   Countryman  Hybrid/Petrol  medium  48848   Dublin    Male       Yes\n",
       "6         Niro  Hybrid/Petrol   large  37759   Dublin  Female        No\n",
       "7         Kona       Electric  medium  27637   Dublin    Male       Yes\n",
       "8     5 Series  Hybrid/Petrol   small  71306   Dublin    Male       Yes\n",
       "9     5 Series       Electric  medium  63448   Dublin    Male        No"
      ]
     },
     "execution_count": 6,
     "metadata": {},
     "output_type": "execute_result"
    }
   ],
   "source": [
    "Cars"
   ]
  },
  {
   "cell_type": "markdown",
   "metadata": {},
   "source": [
    "## References\n",
    "1. https://stats.beepbeep.ie/\n",
    "2. https://stackoverflow.com/questions/46539431/np-random-choice-probabilities-do-not-sum-to-1\n",
    "2. https://towardsdatascience.com/synthetic-data-generation-a-must-have-skill-for-new-data-scientists-915896c0c1ae\n",
    "3. https://www.analyticsvidhya.com/blog/2017/09/6-probability-distributions-data-science/"
   ]
  }
 ],
 "metadata": {
  "kernelspec": {
   "display_name": "Python 3",
   "language": "python",
   "name": "python3"
  },
  "language_info": {
   "codemirror_mode": {
    "name": "ipython",
    "version": 3
   },
   "file_extension": ".py",
   "mimetype": "text/x-python",
   "name": "python",
   "nbconvert_exporter": "python",
   "pygments_lexer": "ipython3",
   "version": "3.7.3"
  }
 },
 "nbformat": 4,
 "nbformat_minor": 2
}
