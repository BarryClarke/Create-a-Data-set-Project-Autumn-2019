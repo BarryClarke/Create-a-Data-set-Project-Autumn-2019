{
 "cells": [
  {
   "cell_type": "markdown",
   "metadata": {},
   "source": [
    "# <center><font color = 'green'>Simulated data for purchasing a new electric car</fon></center>"
   ]
  },
  {
   "cell_type": "markdown",
   "metadata": {},
   "source": [
    "![car-reg](Images/car-reg.png)"
   ]
  },
  {
   "cell_type": "markdown",
   "metadata": {},
   "source": [
    "## <center><font color = 'green'>Barry Clarke</fon></center>\n",
    "## <center><font color = 'green'>Programming for Data Analytics - Project - Autumn 2019</fon></center>"
   ]
  },
  {
   "cell_type": "markdown",
   "metadata": {},
   "source": [
    "## Description"
   ]
  },
  {
   "cell_type": "markdown",
   "metadata": {},
   "source": [
    "This repository will simulate the data for the purchasing of new electric cars in Ireland in the past 5 years. The dataset will include the following variables:\n",
    "1. **Price:** The Sales price and expected to be paid for a new car\n",
    "2. **Year:** Year car was purchased\n",
    "3. **Car Brand:** The car manufacturer's name\n",
    "4. **Model:** The model of car\n",
    "5. **Class:** The class of car\n",
    "7. **Gender:** Gender of purchaser\n",
    "8. **Scrappage:** Yes/No based on whether the purchaser was availing of a scrappage deal\n",
    "\n",
    "This is a datset that should inform us of the trends in new electric car sales. For example the price and numbers of electric cars over the past 5 years, the trends in sales by car manufacturer, the Gender of purchasers, and many other useful data. Personally, this may prove to be particularly informative to the author, who is considering purchasing an electric car for his next purchase, and would like to study the trends in brands, pricing etc."
   ]
  }
 ],
 "metadata": {
  "kernelspec": {
   "display_name": "Python 3",
   "language": "python",
   "name": "python3"
  },
  "language_info": {
   "codemirror_mode": {
    "name": "ipython",
    "version": 3
   },
   "file_extension": ".py",
   "mimetype": "text/x-python",
   "name": "python",
   "nbconvert_exporter": "python",
   "pygments_lexer": "ipython3",
   "version": "3.7.3"
  }
 },
 "nbformat": 4,
 "nbformat_minor": 2
}
