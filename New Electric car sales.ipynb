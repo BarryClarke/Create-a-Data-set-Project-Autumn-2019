{
 "cells": [
  {
   "cell_type": "markdown",
   "metadata": {},
   "source": [
    "# <center><font color = 'green'>Simulated data for purchasing a new electric car</fon></center>"
   ]
  },
  {
   "cell_type": "markdown",
   "metadata": {},
   "source": [
    "![car-reg](Images/car-reg.png)"
   ]
  },
  {
   "cell_type": "markdown",
   "metadata": {},
   "source": [
    "## <center><font color = 'green'>Barry Clarke</fon></center>\n",
    "## <center><font color = 'green'>Programming for Data Analytics - Project - Autumn 2019</fon></center>"
   ]
  },
  {
   "cell_type": "markdown",
   "metadata": {},
   "source": [
    "## Description"
   ]
  },
  {
   "cell_type": "markdown",
   "metadata": {},
   "source": [
    "This repository will simulate the data for the purchasing of new hybrid and full electric cars in Ireland in the 2019. Summary car sales figures show that there has been a significant increase in Hybrid and full electric cars in 2019, when compared to 2018 sales figures.[1] The trend of total sales of Hybrids + full electric cars for 2018 and 2019 can be seen below. <br> \n",
    "![New E-car sales summary](Images/E-Car-sales-summary.png)<br>\n",
    "This data is of interest to the author, as his next car purchase will either be a hybrid or a full electric. Note the trend in the above plot with two peaks, one in January and one in July. This can be explained by the volume of car sales seen at the beginning of the 1st half of the year, and the beginning of the 2nd half of the year. For the below dataset, this trend is not important, rather the focus will be on the overall volume of sales for individual car types for the entire first 10months of 2019."
   ]
  },
  {
   "cell_type": "markdown",
   "metadata": {},
   "source": [
    "The dataset will include the following columns:\n",
    "1. **Model:** The make of car\n",
    "2. **Make:** The manufacturer of the car\n",
    "3. **Technology** The engine type\n",
    "4. **Class:** The class of car\n",
    "5. **Price** The price of the car\n",
    "6. **Location** County where the car is registered. <font color = 'Red'>Note:</font> The dataset will only focus on Dublin and the commuter counties, as the author is a commuter and would like data relevant to his life situation\n",
    "6. **colour** The colour of the car\n",
    "7. **Gender:** Gender of purchaser\n",
    "8. **Scrappage:** Yes/No based on whether the purchaser was availing of a scrappage deal\n",
    "\n",
    "Within the dataset, the relationships between the variables will be discussed and simulated. The final simulated dataset will contain 1000 entries.<br>\n",
    "**Note:** The simulated dataset is primarily based on summary data provided from the [Irish Motor Industry website](https://stats.beepbeep.ie/)"
   ]
  },
  {
   "cell_type": "code",
   "execution_count": 1,
   "metadata": {},
   "outputs": [],
   "source": [
    "# Import the relevant libraries\n",
    "import numpy as np\n",
    "import pandas as pd"
   ]
  },
  {
   "cell_type": "markdown",
   "metadata": {},
   "source": [
    "The below data is based on the summary data for the registrations of hybrid and Electrice passenger cars sold in Dublin and it's commuter counties in 2019 to end of October. This data can be viewed [here](Data/passenger-cars-by-model.xlsx)"
   ]
  },
  {
   "cell_type": "code",
   "execution_count": 2,
   "metadata": {},
   "outputs": [],
   "source": [
    "# List of options within each variable\n",
    "model = ['Leaf', 'Kona', 'Niro', 'zoe', 'E-Golf', 'Outlander', 'Range Rover sport RA', 'Ioniq', 'I3', '5 Series', 'XC90', \n",
    "        '3 Series', 'Soul', 'Countryman', 'Model S', 'XC60', 'E-Tron', 'I-Pace', 'Range Rover', 'Model 3', 'Model X',\n",
    "       'S90', 'Prius', 'Panamera', 'Mondeo', '2 Series', 'Range Rover Evoque R', 'EQC', 'E Class', 'Evalia', '7 Series',\n",
    "       'Passat', 'Twizy', 'C Class', 'A7', 'V90', 'Cayenne']\n",
    "make = ['Nissan', 'Hyundai', 'Kia', 'Renault', 'Volkswagon', 'Mitsubishi', 'Land Rover', 'Hyundai', 'BMW', 'Volvo', 'Mini',\n",
    "       'Tesla', 'Audi', 'Jaguar', 'Toyota', 'Porsche', 'Ford', 'Mercedez-Benz']\n",
    "technology = ['Hybrid/Diesel', 'Hybrid/Petrol', 'Electric']\n",
    "classification = ['small', 'medium', 'large', 'SUV']\n",
    "Price = ['Whatever']\n",
    "location = ['Dublin', 'Meath', 'Louth', 'Kildare', 'Wicklow', 'Wexford', 'Carlow']\n",
    "colour = ['Black', 'White', 'Red', 'Silver', 'Navy', 'Other']\n",
    "gender = ['Male', 'Female']\n",
    "scrappage = ['Yes', 'No']"
   ]
  },
  {
   "cell_type": "markdown",
   "metadata": {},
   "source": [
    "For each sale simulated, the [numpy.random.choice()](#https://docs.scipy.org/doc/numpy-1.15.0/reference/generated/numpy.random.choice.html) function will be used, with a probability attached to each car based on the sales statistics of all cars in the data."
   ]
  },
  {
   "cell_type": "code",
   "execution_count": 3,
   "metadata": {},
   "outputs": [],
   "source": [
    "# Probabilities of each car model being registered, based on 2019 Summary data\n",
    "p1=[0.212, 0.220, 0.090, 0.037, 0.062, 0.046, 0.046, 0.003, 0.035, 0.027, 0.022, 0.02, 0.012, 0.013, 0.014, 0.01, 0.011, 0.012, 0.010, 0.009, 0.008, 0.009, 0.005, 0.006, 0.002, 0.002, 0.002, 0.001, 0.001, 0.0003, 0.0007, 0.0007, 0.0003, 0.0003, 0.0003, 0.0003, 0.0003]\n",
    "# numpy.random.choice() can have difficulty suming all probabilities to 1. The solution is to normalize the probabilities \n",
    "# by dividing them by their sum if the sum is close enough to 1. [2]\n",
    "p1 = np.array(p1)\n",
    "p1 /= p1.sum()"
   ]
  },
  {
   "cell_type": "code",
   "execution_count": 4,
   "metadata": {},
   "outputs": [],
   "source": [
    "# Probabilities of location where car is registered\n",
    "p2=[0.728, 0.057, 0.033, 0.076, 0.057, 0.034, 0.015]"
   ]
  },
  {
   "cell_type": "code",
   "execution_count": 5,
   "metadata": {},
   "outputs": [],
   "source": [
    "Cars = pd.DataFrame({'Model': np.random.choice(model, 10, p=p1)})"
   ]
  },
  {
   "cell_type": "code",
   "execution_count": 6,
   "metadata": {},
   "outputs": [],
   "source": [
    "for i in range(10):\n",
    "    if Cars.loc[i, 'Model'] == 'Leaf' or Cars.loc[i, 'Model'] == 'Kona':\n",
    "        Cars.loc[i, 'Make'] = 'Nissan'\n",
    "        Cars.loc[i, 'Classification'] = 'Small'\n",
    "        Cars.loc[i, 'technology'] = 'Electric'\n",
    "    else:\n",
    "         Cars.loc[i, 'Make'] = 'Audi'\n",
    "           # print('Audi')"
   ]
  },
  {
   "cell_type": "code",
   "execution_count": 7,
   "metadata": {},
   "outputs": [
    {
     "data": {
      "text/html": [
       "<div>\n",
       "<style scoped>\n",
       "    .dataframe tbody tr th:only-of-type {\n",
       "        vertical-align: middle;\n",
       "    }\n",
       "\n",
       "    .dataframe tbody tr th {\n",
       "        vertical-align: top;\n",
       "    }\n",
       "\n",
       "    .dataframe thead th {\n",
       "        text-align: right;\n",
       "    }\n",
       "</style>\n",
       "<table border=\"1\" class=\"dataframe\">\n",
       "  <thead>\n",
       "    <tr style=\"text-align: right;\">\n",
       "      <th></th>\n",
       "      <th>Model</th>\n",
       "      <th>Make</th>\n",
       "      <th>Classification</th>\n",
       "      <th>technology</th>\n",
       "    </tr>\n",
       "  </thead>\n",
       "  <tbody>\n",
       "    <tr>\n",
       "      <th>0</th>\n",
       "      <td>Kona</td>\n",
       "      <td>Nissan</td>\n",
       "      <td>Small</td>\n",
       "      <td>Electric</td>\n",
       "    </tr>\n",
       "    <tr>\n",
       "      <th>1</th>\n",
       "      <td>XC60</td>\n",
       "      <td>Audi</td>\n",
       "      <td>NaN</td>\n",
       "      <td>NaN</td>\n",
       "    </tr>\n",
       "    <tr>\n",
       "      <th>2</th>\n",
       "      <td>Model S</td>\n",
       "      <td>Audi</td>\n",
       "      <td>NaN</td>\n",
       "      <td>NaN</td>\n",
       "    </tr>\n",
       "    <tr>\n",
       "      <th>3</th>\n",
       "      <td>I-Pace</td>\n",
       "      <td>Audi</td>\n",
       "      <td>NaN</td>\n",
       "      <td>NaN</td>\n",
       "    </tr>\n",
       "    <tr>\n",
       "      <th>4</th>\n",
       "      <td>Leaf</td>\n",
       "      <td>Nissan</td>\n",
       "      <td>Small</td>\n",
       "      <td>Electric</td>\n",
       "    </tr>\n",
       "    <tr>\n",
       "      <th>5</th>\n",
       "      <td>Kona</td>\n",
       "      <td>Nissan</td>\n",
       "      <td>Small</td>\n",
       "      <td>Electric</td>\n",
       "    </tr>\n",
       "    <tr>\n",
       "      <th>6</th>\n",
       "      <td>Countryman</td>\n",
       "      <td>Audi</td>\n",
       "      <td>NaN</td>\n",
       "      <td>NaN</td>\n",
       "    </tr>\n",
       "    <tr>\n",
       "      <th>7</th>\n",
       "      <td>Kona</td>\n",
       "      <td>Nissan</td>\n",
       "      <td>Small</td>\n",
       "      <td>Electric</td>\n",
       "    </tr>\n",
       "    <tr>\n",
       "      <th>8</th>\n",
       "      <td>Kona</td>\n",
       "      <td>Nissan</td>\n",
       "      <td>Small</td>\n",
       "      <td>Electric</td>\n",
       "    </tr>\n",
       "    <tr>\n",
       "      <th>9</th>\n",
       "      <td>Niro</td>\n",
       "      <td>Audi</td>\n",
       "      <td>NaN</td>\n",
       "      <td>NaN</td>\n",
       "    </tr>\n",
       "  </tbody>\n",
       "</table>\n",
       "</div>"
      ],
      "text/plain": [
       "        Model    Make Classification technology\n",
       "0        Kona  Nissan          Small   Electric\n",
       "1        XC60    Audi            NaN        NaN\n",
       "2     Model S    Audi            NaN        NaN\n",
       "3      I-Pace    Audi            NaN        NaN\n",
       "4        Leaf  Nissan          Small   Electric\n",
       "5        Kona  Nissan          Small   Electric\n",
       "6  Countryman    Audi            NaN        NaN\n",
       "7        Kona  Nissan          Small   Electric\n",
       "8        Kona  Nissan          Small   Electric\n",
       "9        Niro    Audi            NaN        NaN"
      ]
     },
     "execution_count": 7,
     "metadata": {},
     "output_type": "execute_result"
    }
   ],
   "source": [
    "Cars"
   ]
  },
  {
   "cell_type": "code",
   "execution_count": 8,
   "metadata": {},
   "outputs": [],
   "source": [
    "Cars['Location'] = np.random.choice(location, size=10, p=p2)"
   ]
  },
  {
   "cell_type": "code",
   "execution_count": 9,
   "metadata": {},
   "outputs": [
    {
     "data": {
      "text/html": [
       "<div>\n",
       "<style scoped>\n",
       "    .dataframe tbody tr th:only-of-type {\n",
       "        vertical-align: middle;\n",
       "    }\n",
       "\n",
       "    .dataframe tbody tr th {\n",
       "        vertical-align: top;\n",
       "    }\n",
       "\n",
       "    .dataframe thead th {\n",
       "        text-align: right;\n",
       "    }\n",
       "</style>\n",
       "<table border=\"1\" class=\"dataframe\">\n",
       "  <thead>\n",
       "    <tr style=\"text-align: right;\">\n",
       "      <th></th>\n",
       "      <th>Model</th>\n",
       "      <th>Make</th>\n",
       "      <th>Classification</th>\n",
       "      <th>technology</th>\n",
       "      <th>Location</th>\n",
       "    </tr>\n",
       "  </thead>\n",
       "  <tbody>\n",
       "    <tr>\n",
       "      <th>0</th>\n",
       "      <td>Kona</td>\n",
       "      <td>Nissan</td>\n",
       "      <td>Small</td>\n",
       "      <td>Electric</td>\n",
       "      <td>Dublin</td>\n",
       "    </tr>\n",
       "    <tr>\n",
       "      <th>1</th>\n",
       "      <td>XC60</td>\n",
       "      <td>Audi</td>\n",
       "      <td>NaN</td>\n",
       "      <td>NaN</td>\n",
       "      <td>Dublin</td>\n",
       "    </tr>\n",
       "    <tr>\n",
       "      <th>2</th>\n",
       "      <td>Model S</td>\n",
       "      <td>Audi</td>\n",
       "      <td>NaN</td>\n",
       "      <td>NaN</td>\n",
       "      <td>Dublin</td>\n",
       "    </tr>\n",
       "    <tr>\n",
       "      <th>3</th>\n",
       "      <td>I-Pace</td>\n",
       "      <td>Audi</td>\n",
       "      <td>NaN</td>\n",
       "      <td>NaN</td>\n",
       "      <td>Dublin</td>\n",
       "    </tr>\n",
       "    <tr>\n",
       "      <th>4</th>\n",
       "      <td>Leaf</td>\n",
       "      <td>Nissan</td>\n",
       "      <td>Small</td>\n",
       "      <td>Electric</td>\n",
       "      <td>Dublin</td>\n",
       "    </tr>\n",
       "    <tr>\n",
       "      <th>5</th>\n",
       "      <td>Kona</td>\n",
       "      <td>Nissan</td>\n",
       "      <td>Small</td>\n",
       "      <td>Electric</td>\n",
       "      <td>Dublin</td>\n",
       "    </tr>\n",
       "    <tr>\n",
       "      <th>6</th>\n",
       "      <td>Countryman</td>\n",
       "      <td>Audi</td>\n",
       "      <td>NaN</td>\n",
       "      <td>NaN</td>\n",
       "      <td>Dublin</td>\n",
       "    </tr>\n",
       "    <tr>\n",
       "      <th>7</th>\n",
       "      <td>Kona</td>\n",
       "      <td>Nissan</td>\n",
       "      <td>Small</td>\n",
       "      <td>Electric</td>\n",
       "      <td>Dublin</td>\n",
       "    </tr>\n",
       "    <tr>\n",
       "      <th>8</th>\n",
       "      <td>Kona</td>\n",
       "      <td>Nissan</td>\n",
       "      <td>Small</td>\n",
       "      <td>Electric</td>\n",
       "      <td>Dublin</td>\n",
       "    </tr>\n",
       "    <tr>\n",
       "      <th>9</th>\n",
       "      <td>Niro</td>\n",
       "      <td>Audi</td>\n",
       "      <td>NaN</td>\n",
       "      <td>NaN</td>\n",
       "      <td>Louth</td>\n",
       "    </tr>\n",
       "  </tbody>\n",
       "</table>\n",
       "</div>"
      ],
      "text/plain": [
       "        Model    Make Classification technology Location\n",
       "0        Kona  Nissan          Small   Electric   Dublin\n",
       "1        XC60    Audi            NaN        NaN   Dublin\n",
       "2     Model S    Audi            NaN        NaN   Dublin\n",
       "3      I-Pace    Audi            NaN        NaN   Dublin\n",
       "4        Leaf  Nissan          Small   Electric   Dublin\n",
       "5        Kona  Nissan          Small   Electric   Dublin\n",
       "6  Countryman    Audi            NaN        NaN   Dublin\n",
       "7        Kona  Nissan          Small   Electric   Dublin\n",
       "8        Kona  Nissan          Small   Electric   Dublin\n",
       "9        Niro    Audi            NaN        NaN    Louth"
      ]
     },
     "execution_count": 9,
     "metadata": {},
     "output_type": "execute_result"
    }
   ],
   "source": [
    "Cars"
   ]
  },
  {
   "cell_type": "code",
   "execution_count": 10,
   "metadata": {},
   "outputs": [],
   "source": [
    "for i in range(10):\n",
    "    if Cars.loc[i, 'Model'] == 'Leaf':\n",
    "        Cars.loc[i, 'Make'] = 'Nissan'\n",
    "           # print('Nissan')\n",
    "    else:\n",
    "         Cars.loc[i, 'Make'] = 'Audi'\n",
    "           # print('Audi')"
   ]
  },
  {
   "cell_type": "code",
   "execution_count": 11,
   "metadata": {},
   "outputs": [
    {
     "data": {
      "text/html": [
       "<div>\n",
       "<style scoped>\n",
       "    .dataframe tbody tr th:only-of-type {\n",
       "        vertical-align: middle;\n",
       "    }\n",
       "\n",
       "    .dataframe tbody tr th {\n",
       "        vertical-align: top;\n",
       "    }\n",
       "\n",
       "    .dataframe thead th {\n",
       "        text-align: right;\n",
       "    }\n",
       "</style>\n",
       "<table border=\"1\" class=\"dataframe\">\n",
       "  <thead>\n",
       "    <tr style=\"text-align: right;\">\n",
       "      <th></th>\n",
       "      <th>Model</th>\n",
       "      <th>Make</th>\n",
       "      <th>Classification</th>\n",
       "      <th>technology</th>\n",
       "      <th>Location</th>\n",
       "    </tr>\n",
       "  </thead>\n",
       "  <tbody>\n",
       "    <tr>\n",
       "      <th>0</th>\n",
       "      <td>Kona</td>\n",
       "      <td>Audi</td>\n",
       "      <td>Small</td>\n",
       "      <td>Electric</td>\n",
       "      <td>Dublin</td>\n",
       "    </tr>\n",
       "    <tr>\n",
       "      <th>1</th>\n",
       "      <td>XC60</td>\n",
       "      <td>Audi</td>\n",
       "      <td>NaN</td>\n",
       "      <td>NaN</td>\n",
       "      <td>Dublin</td>\n",
       "    </tr>\n",
       "    <tr>\n",
       "      <th>2</th>\n",
       "      <td>Model S</td>\n",
       "      <td>Audi</td>\n",
       "      <td>NaN</td>\n",
       "      <td>NaN</td>\n",
       "      <td>Dublin</td>\n",
       "    </tr>\n",
       "    <tr>\n",
       "      <th>3</th>\n",
       "      <td>I-Pace</td>\n",
       "      <td>Audi</td>\n",
       "      <td>NaN</td>\n",
       "      <td>NaN</td>\n",
       "      <td>Dublin</td>\n",
       "    </tr>\n",
       "    <tr>\n",
       "      <th>4</th>\n",
       "      <td>Leaf</td>\n",
       "      <td>Nissan</td>\n",
       "      <td>Small</td>\n",
       "      <td>Electric</td>\n",
       "      <td>Dublin</td>\n",
       "    </tr>\n",
       "    <tr>\n",
       "      <th>5</th>\n",
       "      <td>Kona</td>\n",
       "      <td>Audi</td>\n",
       "      <td>Small</td>\n",
       "      <td>Electric</td>\n",
       "      <td>Dublin</td>\n",
       "    </tr>\n",
       "    <tr>\n",
       "      <th>6</th>\n",
       "      <td>Countryman</td>\n",
       "      <td>Audi</td>\n",
       "      <td>NaN</td>\n",
       "      <td>NaN</td>\n",
       "      <td>Dublin</td>\n",
       "    </tr>\n",
       "    <tr>\n",
       "      <th>7</th>\n",
       "      <td>Kona</td>\n",
       "      <td>Audi</td>\n",
       "      <td>Small</td>\n",
       "      <td>Electric</td>\n",
       "      <td>Dublin</td>\n",
       "    </tr>\n",
       "    <tr>\n",
       "      <th>8</th>\n",
       "      <td>Kona</td>\n",
       "      <td>Audi</td>\n",
       "      <td>Small</td>\n",
       "      <td>Electric</td>\n",
       "      <td>Dublin</td>\n",
       "    </tr>\n",
       "    <tr>\n",
       "      <th>9</th>\n",
       "      <td>Niro</td>\n",
       "      <td>Audi</td>\n",
       "      <td>NaN</td>\n",
       "      <td>NaN</td>\n",
       "      <td>Louth</td>\n",
       "    </tr>\n",
       "  </tbody>\n",
       "</table>\n",
       "</div>"
      ],
      "text/plain": [
       "        Model    Make Classification technology Location\n",
       "0        Kona    Audi          Small   Electric   Dublin\n",
       "1        XC60    Audi            NaN        NaN   Dublin\n",
       "2     Model S    Audi            NaN        NaN   Dublin\n",
       "3      I-Pace    Audi            NaN        NaN   Dublin\n",
       "4        Leaf  Nissan          Small   Electric   Dublin\n",
       "5        Kona    Audi          Small   Electric   Dublin\n",
       "6  Countryman    Audi            NaN        NaN   Dublin\n",
       "7        Kona    Audi          Small   Electric   Dublin\n",
       "8        Kona    Audi          Small   Electric   Dublin\n",
       "9        Niro    Audi            NaN        NaN    Louth"
      ]
     },
     "execution_count": 11,
     "metadata": {},
     "output_type": "execute_result"
    }
   ],
   "source": [
    "Cars"
   ]
  },
  {
   "cell_type": "code",
   "execution_count": 12,
   "metadata": {},
   "outputs": [
    {
     "ename": "NameError",
     "evalue": "name 'categories' is not defined",
     "output_type": "error",
     "traceback": [
      "\u001b[1;31m---------------------------------------------------------------------------\u001b[0m",
      "\u001b[1;31mNameError\u001b[0m                                 Traceback (most recent call last)",
      "\u001b[1;32m<ipython-input-12-0fe1505e2cfa>\u001b[0m in \u001b[0;36m<module>\u001b[1;34m\u001b[0m\n\u001b[1;32m----> 1\u001b[1;33m \u001b[0mcategories\u001b[0m\u001b[1;33m(\u001b[0m\u001b[1;33m)\u001b[0m\u001b[1;33m\u001b[0m\u001b[1;33m\u001b[0m\u001b[0m\n\u001b[0m",
      "\u001b[1;31mNameError\u001b[0m: name 'categories' is not defined"
     ]
    }
   ],
   "source": [
    "categories()"
   ]
  },
  {
   "cell_type": "code",
   "execution_count": null,
   "metadata": {},
   "outputs": [],
   "source": [
    "Cars"
   ]
  },
  {
   "cell_type": "code",
   "execution_count": null,
   "metadata": {},
   "outputs": [],
   "source": [
    "Cars['Make'] = categories()"
   ]
  },
  {
   "cell_type": "code",
   "execution_count": null,
   "metadata": {},
   "outputs": [],
   "source": [
    "Cars"
   ]
  },
  {
   "cell_type": "code",
   "execution_count": null,
   "metadata": {},
   "outputs": [],
   "source": [
    "Cars.loc[1,'Model']"
   ]
  },
  {
   "cell_type": "code",
   "execution_count": null,
   "metadata": {},
   "outputs": [],
   "source": [
    "# segmentation_features = {'Make': make,\n",
    "#                'Classification': classification,\n",
    "#                'Technology': technology}\n",
    "# segmentation_features"
   ]
  },
  {
   "cell_type": "code",
   "execution_count": null,
   "metadata": {},
   "outputs": [],
   "source": [
    "# def generating_categorical_features(model)\n",
    "#     if model == \"Leaf\":\n",
    "#        make = \"Nissan\"\n",
    "#        classification = \"small\"\n",
    "#        technology = \"Electric\""
   ]
  },
  {
   "cell_type": "code",
   "execution_count": null,
   "metadata": {},
   "outputs": [],
   "source": []
  },
  {
   "cell_type": "code",
   "execution_count": null,
   "metadata": {},
   "outputs": [],
   "source": []
  },
  {
   "cell_type": "code",
   "execution_count": null,
   "metadata": {},
   "outputs": [],
   "source": []
  },
  {
   "cell_type": "code",
   "execution_count": null,
   "metadata": {},
   "outputs": [],
   "source": []
  },
  {
   "cell_type": "code",
   "execution_count": null,
   "metadata": {},
   "outputs": [],
   "source": []
  },
  {
   "cell_type": "code",
   "execution_count": null,
   "metadata": {},
   "outputs": [],
   "source": []
  },
  {
   "cell_type": "code",
   "execution_count": null,
   "metadata": {},
   "outputs": [],
   "source": [
    "# Define a function to add the correct categories car model randomly chosen\n",
    "#. def make1():\n",
    "    \n",
    "#for i in range(10):\n",
    " #   if model == 'Leaf':\n",
    " #       make = 'Nissan'\n",
    "  #  elif model == 'Kona':\n",
    "  #      make = 'Nissan'\n",
    "   # else:\n",
    "  #      make = 'Audi'"
   ]
  },
  {
   "cell_type": "code",
   "execution_count": null,
   "metadata": {},
   "outputs": [],
   "source": [
    "#Cars['Make'] = make1()"
   ]
  },
  {
   "cell_type": "code",
   "execution_count": null,
   "metadata": {},
   "outputs": [],
   "source": [
    "# Cars"
   ]
  },
  {
   "cell_type": "code",
   "execution_count": null,
   "metadata": {},
   "outputs": [],
   "source": [
    "# Cars = pd.DataFrame({'Model': np.random.choice(model, 10, p=p1), 'Make': make1(),\n",
    "#                    'Class': np.random.choice(classification, 10), 'Price': np.random.randint(20000, 80000, size=10),\n",
    "#                    'Location': np.random.choice(location, size=10, p=p2), 'Gender': np.random.choice(gender, 10),\n",
    "#                    'Scrappage': np.random.choice(scrappage, 10)})"
   ]
  },
  {
   "cell_type": "code",
   "execution_count": null,
   "metadata": {},
   "outputs": [],
   "source": [
    "#Cars"
   ]
  },
  {
   "cell_type": "code",
   "execution_count": null,
   "metadata": {},
   "outputs": [],
   "source": [
    "# Define a function to add the correct categories car model randomly chosen\n",
    "#def make1():\n",
    " #   for i in range(10):\n",
    "  #      if Cars.at[i, 'Model'] == 'Leaf':\n",
    "   #                Cars.at[i, 'Make'] = 'Nissan'\n",
    "  #  elif model == 'Kona':\n",
    "     # make = 'Nissan'\n",
    "    #    else:\n",
    "     #      Cars.at[i, 'Make'] = 'Audi'"
   ]
  },
  {
   "cell_type": "code",
   "execution_count": null,
   "metadata": {},
   "outputs": [],
   "source": [
    "#Cars = pd.DataFrame({'Model': np.random.choice(model, 10, p=p1), 'Make': make1(),\n",
    " #                   'Class': np.random.choice(classification, 10), 'Price': np.random.randint(20000, 80000, size=10),\n",
    "  #                  'Location': np.random.choice(location, size=10, p=p2), 'Gender': np.random.choice(gender, 10),\n",
    "   #                 'Scrappage': np.random.choice(scrappage, 10)})"
   ]
  },
  {
   "cell_type": "code",
   "execution_count": null,
   "metadata": {},
   "outputs": [],
   "source": [
    "#Cars"
   ]
  },
  {
   "cell_type": "code",
   "execution_count": null,
   "metadata": {},
   "outputs": [],
   "source": [
    "# Define a function to add the correct categories car model randomly chosen\n",
    "#def categories(model):\n",
    " #   for i in range(10):\n",
    "  #      if model(i) == 'Leaf':\n",
    "   #         make = 'Nissan'\n",
    "    #    elif model(i) == 'Kona':\n",
    "     #       make = 'Nissan'\n",
    "      #  else:\n",
    "       #     make = 'Audi'"
   ]
  },
  {
   "cell_type": "code",
   "execution_count": null,
   "metadata": {},
   "outputs": [],
   "source": [
    "from collections import defaultdict\n",
    "\n",
    "#import matplotlib.pyplot as plt\n",
    "#import numpy as np\n",
    "#import pandas as pd\n",
    "\n",
    "\n",
    "#alpha = 0.0001\n",
    "#q = 10\n",
    "#omega = 0\n",
    "\n",
    "stats = defaultdict(list)\n",
    "\n",
    "for i in range(10):\n",
    "    stats['Model'].append(np.random.choice(model, 1, p=p1))\n",
    "    \n",
    "    \n",
    "    \n",
    "    \n",
    "    stats['Location'].append(np.random.choice(location, 1, p=p2))\n",
    "#    car = stats['Model']\n",
    " #   if car == 'Leaf':\n",
    "  #      stats['Make'].append('Nissan')\n",
    "   # else:\n",
    "    #    stats['Make'].append('Audi')\n",
    "\n",
    "result = pd.DataFrame().from_dict(stats)\n",
    "\n",
    "result"
   ]
  },
  {
   "cell_type": "code",
   "execution_count": null,
   "metadata": {},
   "outputs": [],
   "source": [
    "from collections import defaultdict\n",
    "\n",
    "import matplotlib.pyplot as plt\n",
    "import numpy as np\n",
    "import pandas as pd\n",
    "\n",
    "\n",
    "alpha = 0.0001\n",
    "q = 10\n",
    "omega = 0\n",
    "\n",
    "stats = defaultdict(list)\n",
    "\n",
    "for step in range(50):\n",
    "    stats['q'].append(q)\n",
    "    stats['omega'].append(omega)\n",
    "\n",
    "    omega = omega + alpha * (1 - omega)\n",
    "    beta = alpha / omega\n",
    "    stats['beta'].append(beta)\n",
    "\n",
    "    reward = np.random.normal(loc=5, scale=1)\n",
    "    stats['reward'].append(reward)\n",
    "\n",
    "    q += beta * (reward - q)\n",
    "\n",
    "result = pd.DataFrame().from_dict(stats)\n",
    "result"
   ]
  },
  {
   "cell_type": "code",
   "execution_count": null,
   "metadata": {},
   "outputs": [],
   "source": [
    "list1 = [1, 2, 3, 4, 5, 6, 7, 8, 9, 10]  \n",
    "  \n",
    "for x in range(5): \n",
    "    print(np.random.choice(list1))"
   ]
  },
  {
   "cell_type": "markdown",
   "metadata": {},
   "source": [
    "## References\n",
    "1. https://stats.beepbeep.ie/\n",
    "2. https://stackoverflow.com/questions/46539431/np-random-choice-probabilities-do-not-sum-to-1\n",
    "2. https://towardsdatascience.com/synthetic-data-generation-a-must-have-skill-for-new-data-scientists-915896c0c1ae\n",
    "3. https://www.analyticsvidhya.com/blog/2017/09/6-probability-distributions-data-science/"
   ]
  }
 ],
 "metadata": {
  "kernelspec": {
   "display_name": "Python 3",
   "language": "python",
   "name": "python3"
  },
  "language_info": {
   "codemirror_mode": {
    "name": "ipython",
    "version": 3
   },
   "file_extension": ".py",
   "mimetype": "text/x-python",
   "name": "python",
   "nbconvert_exporter": "python",
   "pygments_lexer": "ipython3",
   "version": "3.7.3"
  }
 },
 "nbformat": 4,
 "nbformat_minor": 2
}
