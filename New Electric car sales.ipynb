{
 "cells": [
  {
   "cell_type": "markdown",
   "metadata": {},
   "source": [
    "# <center><font color = 'green'>Simulated data for purchasing a new electric car</fon></center>"
   ]
  },
  {
   "cell_type": "markdown",
   "metadata": {},
   "source": [
    "![car-reg](Images/car-reg.png)"
   ]
  },
  {
   "cell_type": "markdown",
   "metadata": {},
   "source": [
    "## <center><font color = 'green'>Barry Clarke</fon></center>\n",
    "## <center><font color = 'green'>Programming for Data Analytics - Project - Autumn 2019</fon></center>"
   ]
  },
  {
   "cell_type": "markdown",
   "metadata": {},
   "source": [
    "## Description"
   ]
  },
  {
   "attachments": {},
   "cell_type": "markdown",
   "metadata": {},
   "source": [
    "This repository will simulate the data for the purchasing of new hybrid and full electric cars in Ireland in the 2019. Summary car sales figures show that there has been a significant increase in Hybrid and full electric cars in 2019, when compared to 2018 sales figures.[1] The trend of total sales of Hybrids + full electric cars for 2018 and 2019 can be seen below. <br> \n",
    "![New E-car sales summary](Images/E-Car-sales-summary1.png)<br>\n",
    "This data is of interest to the author, as his next car purchase will either be a hybrid or a full electric"
   ]
  },
  {
   "cell_type": "markdown",
   "metadata": {},
   "source": [
    "The dataset will include the following columns:\n",
    "1. **Model:** The make of car\n",
    "2. **Make:** The manufacturer of the car\n",
    "3. **Technology** The engine type\n",
    "4. **Class:** The class of car\n",
    "5. **Price** The price of the car\n",
    "6. **Location** County where the car is registered. <font color = 'Red'>Note:</font> The dataset will only focus on Dublin and the commuter counties, as the author is a commuter and would like data relevant to his life situation\n",
    "6. **colour** The colour of the car\n",
    "7. **Gender:** Gender of purchaser\n",
    "8. **Scrappage:** Yes/No based on whether the purchaser was availing of a scrappage deal\n",
    "\n",
    "Within the dataset, the relationships between the variables will be discussed and simulated. The final simulated dataset will contain 1000 entries"
   ]
  },
  {
   "cell_type": "code",
   "execution_count": 1,
   "metadata": {},
   "outputs": [],
   "source": [
    "# Import the relevant libraries\n",
    "import numpy as np\n",
    "import pandas as pd"
   ]
  },
  {
   "cell_type": "code",
   "execution_count": 2,
   "metadata": {},
   "outputs": [],
   "source": [
    "# List of options within each variable\n",
    "model = ['Leaf', 'Kona', 'Niro', 'zoe', 'E-Golf', 'Outlander', 'Range Rover sport RA', 'Ioniq', 'I3', '5 Series', 'XC90', \n",
    "        '3 Series', 'Soul', 'Countryman', 'Model S', 'XC60', 'E-Tron', 'I-Pace', 'Range Rover', 'Model 3', 'Model X',\n",
    "       'S90', 'Pruis', 'Panamera', 'Mondeo', '2 Series', 'Range Rover Evoque R', 'EQC', 'E Class', 'Evalia', '7 Series',\n",
    "       'Passat', 'Twizy', 'C Class', 'A7', 'V90', 'Cayenne', 'I8']\n",
    "make = ['Nissan', 'Hyundai', 'Kia', 'Renault', 'Volkswagon', 'Mitsubishi', 'Land Rover', 'Hyundai', 'BMW', 'Volvo', 'Mini',\n",
    "       'Tesla', 'Audi', 'Jaguar', 'Toyota', 'Porsche', 'Ford', 'Mercedez-Benz']\n",
    "technology = ['Hybrid/Diesel', 'Hybrid/Petrol', 'Electric']\n",
    "classification = ['small', 'medium', 'large', 'SUV']\n",
    "Price = ['Whatever']\n",
    "Location = ['Dublin', 'Meath', 'Louth' 'Kildare', 'Wicklow', 'Wexford', 'Carlow']\n",
    "colour = ['Black', 'White', 'Red', 'Silver', 'Navy', 'Other']\n",
    "gender = ['Male', 'Female']\n",
    "scrappage = ['Yes', 'No']"
   ]
  },
  {
   "cell_type": "code",
   "execution_count": 4,
   "metadata": {},
   "outputs": [],
   "source": [
    "data = pd.DataFrame({'Model': np.random.choice(model, 10), 'Technology': np.random.choice(technology, 10),\n",
    "                     'Class': np.random.choice(classification, 10), 'Price': np.random.randint(20000, 80000, size=10),\n",
    "                     'Price': np.random.randint(20000, 80000, size=10), 'Gender': np.random.choice(gender, 10),\n",
    "                     'Scrappage': np.random.choice(scrappage, 10)})"
   ]
  },
  {
   "cell_type": "code",
   "execution_count": 5,
   "metadata": {},
   "outputs": [
    {
     "data": {
      "text/html": [
       "<div>\n",
       "<style scoped>\n",
       "    .dataframe tbody tr th:only-of-type {\n",
       "        vertical-align: middle;\n",
       "    }\n",
       "\n",
       "    .dataframe tbody tr th {\n",
       "        vertical-align: top;\n",
       "    }\n",
       "\n",
       "    .dataframe thead th {\n",
       "        text-align: right;\n",
       "    }\n",
       "</style>\n",
       "<table border=\"1\" class=\"dataframe\">\n",
       "  <thead>\n",
       "    <tr style=\"text-align: right;\">\n",
       "      <th></th>\n",
       "      <th>Model</th>\n",
       "      <th>Technology</th>\n",
       "      <th>Class</th>\n",
       "      <th>Price</th>\n",
       "      <th>Gender</th>\n",
       "      <th>Scrappage</th>\n",
       "    </tr>\n",
       "  </thead>\n",
       "  <tbody>\n",
       "    <tr>\n",
       "      <th>0</th>\n",
       "      <td>EQC</td>\n",
       "      <td>Hybrid/Diesel</td>\n",
       "      <td>medium</td>\n",
       "      <td>27766</td>\n",
       "      <td>Female</td>\n",
       "      <td>Yes</td>\n",
       "    </tr>\n",
       "    <tr>\n",
       "      <th>1</th>\n",
       "      <td>Range Rover</td>\n",
       "      <td>Electric</td>\n",
       "      <td>SUV</td>\n",
       "      <td>64162</td>\n",
       "      <td>Female</td>\n",
       "      <td>No</td>\n",
       "    </tr>\n",
       "    <tr>\n",
       "      <th>2</th>\n",
       "      <td>Countryman</td>\n",
       "      <td>Hybrid/Petrol</td>\n",
       "      <td>large</td>\n",
       "      <td>71506</td>\n",
       "      <td>Male</td>\n",
       "      <td>No</td>\n",
       "    </tr>\n",
       "    <tr>\n",
       "      <th>3</th>\n",
       "      <td>Model 3</td>\n",
       "      <td>Electric</td>\n",
       "      <td>small</td>\n",
       "      <td>29194</td>\n",
       "      <td>Male</td>\n",
       "      <td>No</td>\n",
       "    </tr>\n",
       "    <tr>\n",
       "      <th>4</th>\n",
       "      <td>EQC</td>\n",
       "      <td>Hybrid/Diesel</td>\n",
       "      <td>SUV</td>\n",
       "      <td>67695</td>\n",
       "      <td>Male</td>\n",
       "      <td>Yes</td>\n",
       "    </tr>\n",
       "    <tr>\n",
       "      <th>5</th>\n",
       "      <td>Mondeo</td>\n",
       "      <td>Hybrid/Diesel</td>\n",
       "      <td>large</td>\n",
       "      <td>40510</td>\n",
       "      <td>Female</td>\n",
       "      <td>Yes</td>\n",
       "    </tr>\n",
       "    <tr>\n",
       "      <th>6</th>\n",
       "      <td>Range Rover sport RA</td>\n",
       "      <td>Electric</td>\n",
       "      <td>medium</td>\n",
       "      <td>24529</td>\n",
       "      <td>Female</td>\n",
       "      <td>No</td>\n",
       "    </tr>\n",
       "    <tr>\n",
       "      <th>7</th>\n",
       "      <td>S90</td>\n",
       "      <td>Hybrid/Diesel</td>\n",
       "      <td>large</td>\n",
       "      <td>25762</td>\n",
       "      <td>Male</td>\n",
       "      <td>No</td>\n",
       "    </tr>\n",
       "    <tr>\n",
       "      <th>8</th>\n",
       "      <td>E Class</td>\n",
       "      <td>Electric</td>\n",
       "      <td>small</td>\n",
       "      <td>74135</td>\n",
       "      <td>Female</td>\n",
       "      <td>Yes</td>\n",
       "    </tr>\n",
       "    <tr>\n",
       "      <th>9</th>\n",
       "      <td>Passat</td>\n",
       "      <td>Electric</td>\n",
       "      <td>small</td>\n",
       "      <td>49212</td>\n",
       "      <td>Female</td>\n",
       "      <td>No</td>\n",
       "    </tr>\n",
       "  </tbody>\n",
       "</table>\n",
       "</div>"
      ],
      "text/plain": [
       "                  Model     Technology   Class  Price  Gender Scrappage\n",
       "0                   EQC  Hybrid/Diesel  medium  27766  Female       Yes\n",
       "1           Range Rover       Electric     SUV  64162  Female        No\n",
       "2            Countryman  Hybrid/Petrol   large  71506    Male        No\n",
       "3               Model 3       Electric   small  29194    Male        No\n",
       "4                   EQC  Hybrid/Diesel     SUV  67695    Male       Yes\n",
       "5                Mondeo  Hybrid/Diesel   large  40510  Female       Yes\n",
       "6  Range Rover sport RA       Electric  medium  24529  Female        No\n",
       "7                   S90  Hybrid/Diesel   large  25762    Male        No\n",
       "8               E Class       Electric   small  74135  Female       Yes\n",
       "9                Passat       Electric   small  49212  Female        No"
      ]
     },
     "execution_count": 5,
     "metadata": {},
     "output_type": "execute_result"
    }
   ],
   "source": [
    "data"
   ]
  },
  {
   "cell_type": "markdown",
   "metadata": {},
   "source": [
    "## References\n",
    "1. https://stats.beepbeep.ie/\n",
    "2. https://towardsdatascience.com/synthetic-data-generation-a-must-have-skill-for-new-data-scientists-915896c0c1ae\n",
    "3. https://www.analyticsvidhya.com/blog/2017/09/6-probability-distributions-data-science/"
   ]
  },
  {
   "cell_type": "code",
   "execution_count": null,
   "metadata": {},
   "outputs": [],
   "source": []
  }
 ],
 "metadata": {
  "kernelspec": {
   "display_name": "Python 3",
   "language": "python",
   "name": "python3"
  },
  "language_info": {
   "codemirror_mode": {
    "name": "ipython",
    "version": 3
   },
   "file_extension": ".py",
   "mimetype": "text/x-python",
   "name": "python",
   "nbconvert_exporter": "python",
   "pygments_lexer": "ipython3",
   "version": "3.7.3"
  }
 },
 "nbformat": 4,
 "nbformat_minor": 2
}
